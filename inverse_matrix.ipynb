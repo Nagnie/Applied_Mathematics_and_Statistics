{
 "cells": [
  {
   "cell_type": "markdown",
   "metadata": {},
   "source": []
  },
  {
   "cell_type": "markdown",
   "metadata": {},
   "source": [
    "# Toán ứng dụng và thống kê - Project 2: Gauss-Jordan\n",
    "\n",
    "**Họ và tên:** Trần Thảo Ngân\n",
    "\n",
    "**MSSV:** 22120225\n",
    "\n",
    "**Lớp:** 22/3\n",
    "\n",
    "## Đề bài\n",
    "\n",
    "**Bài 1: Sinh viên viết hàm inverse(A), trong đó**\n",
    "\n",
    "    • Input: A là ma trận vuông.\n",
    "\n",
    "    • Output: Ma trận nghịch đảo của ma trận A ban đầu (nếu có). Trường hợp không có ma trận nghịch đảo sẽ hiện thông báo \"Ma trận không khả nghịch\".\n",
    "\n",
    "Lưu ý: sinh viên phải sử dụng thuật toán Gauss – Jordan đã được hướng dẫn trong phần bài tập để tìm ma trận nghịch đảo. Sinh viên không được dùng các hàm có sẵn của các thư viện \n",
    "để tìm ma trận nghịch đảo.\n",
    "\n",
    "**Bài 2: Mở rộng:**\n",
    "\n",
    "Tìm hiểu hàm/ phương thức tương ứng của các thư viện và thực hiện nó, so sánh kết quả\n",
    "\n",
    "### Quy định bài nộp\n",
    "    • Thực hiện toàn bộ bài làm trên 1 tập tin Jupyter Notebook (.ipynb)\n",
    "\n",
    "    • Đầu bài phải có phần trình bày thông tin sinh viên và giải thuật theo giống yêu cầu của Bài tập 11\n",
    "\n",
    "    • Cuối bài phải có phần mô tả ý tưởng thực hiện và mô tả các hàm\n",
    "    \n",
    "### Quy định chấm bài\n",
    "Những trường hợp sau đây sẽ bị 0 điểm toàn bộ đồ án:\n",
    "\n",
    "    • Nộp sai quy định bài nộp\n",
    "    \n",
    "    • Thực thi mã nguồn báo lỗi"
   ]
  },
  {
   "cell_type": "markdown",
   "metadata": {},
   "source": [
    "## Giải thuật\n",
    "\n",
    "**Bước 1. Tính định thức của ma trận**\n",
    "\n",
    "    + Nếu ma trận A chỉ có một phần tử, định thức của nó là chính phần tử đó và trả về giá trị của nó.\n",
    "\n",
    "    + Nếu ma trận A có kích thước 2x2, định thức được tính bằng công thức ad - bc.\n",
    "\n",
    "    + Trong trường hợp ma trận có kích thước lớn hơn 2x2, chúng ta sử dụng phương pháp đệ quy.\n",
    "\n",
    "        - Vòng lặp for j in range(n) duyệt qua từng cột của hàng đầu tiên của ma trận A.\n",
    "\n",
    "        - Với mỗi cột, chúng ta tính cofactor (hệ số đồng biến hoặc nghịch biến) và lấy định thức của ma trận con bằng cách loại bỏ hàng và cột tương ứng.\n",
    "\n",
    "        - Tổng hợp các định thức con với cofactor tương ứng và trả về tổng này là định thức của ma trận A.\n",
    "\n",
    "    + Kết quả cuối cùng được trả về là định thức của ma trận A.\n",
    "\n",
    "**Bước 2. Tìm ma trận nghịch đảo.**\n",
    "\n",
    "    + Tính số hàng/cột của ma trận\n",
    "\n",
    "    + Nếu định thức của ma trận bằng 0 thì trả về ma trận không khả nghịch.\n",
    "\n",
    "    + Tạo ma trận đơn vị có kích thước n x n bằng cách sử dụng một biểu thức danh sách lồng nhau.  \n",
    "\n",
    "    + Tạo ma trận mở rộng bằng cách nối từng hàng của ma trận A với hàng tương ứng của ma trận đơn vị I.\n",
    "\n",
    "    + Đối với mỗi hàng i của ma trận:\n",
    "\n",
    "        a. Chuẩn hóa hàng: Hàng đó được chuẩn hóa bằng cách chia tất cả các phần tử của nó cho phần tử chính đường chéo tương ứng (pivot).\n",
    "\n",
    "        b. Loại bỏ biến: Đối với mỗi hàng j của ma trận (trừ hàng i):\n",
    "\n",
    "            - Một hệ số (factor) được tính dựa trên phần tử ở vị trí (j, i) của ma trận mở rộng.\n",
    "\n",
    "            - Các phần tử của hàng j được cập nhật bằng cách trừ factor lần hàng i đã được chuẩn hóa.\n",
    "\n",
    "    + Trích xuất ma trận nghịch đảo từ ma trận mở rộng bằng cách chỉ lấy phần cuối cùng của mỗi hàng, tức là từ cột n đến hết.\n",
    "\n",
    "    + Trả về ma trận nghịch đảo (return inverse): Cuối cùng, hàm trả về ma trận nghịch đảo đã tính được.\n"
   ]
  },
  {
   "cell_type": "markdown",
   "metadata": {},
   "source": [
    "### Bài 1"
   ]
  },
  {
   "cell_type": "code",
   "execution_count": 44,
   "metadata": {},
   "outputs": [
    {
     "name": "stdout",
     "output_type": "stream",
     "text": [
      "Ma tran nghich dao:  [[-2.0, 1.0], [1.5, -0.5]]\n",
      "Ma tran khong kha nghich\n"
     ]
    }
   ],
   "source": [
    "def determinant(A):\n",
    "    n = len(A)\n",
    "    if n == 1:\n",
    "        return A[0][0]\n",
    "    elif n == 2:\n",
    "        return A[0][0] * A[1][1] - A[0][1] * A[1][0]\n",
    "    else:\n",
    "        det = 0\n",
    "        for j in range(n):\n",
    "            cofactor = (-1) ** j\n",
    "            submatrix = [[A[i][k] for k in range(n) if k != j] for i in range(1, n)]\n",
    "            det += cofactor * A[0][j] * determinant(submatrix)\n",
    "        return det\n",
    "\n",
    "def inverse(A):\n",
    "    n = len(A)\n",
    "    det = determinant(A)\n",
    "    if det == 0:\n",
    "        return \"Ma tran khong kha nghich\"\n",
    "    I = [[1 if i == j else 0 for j in range(n)] for i in range(n)]\n",
    "    B = [row + I[i] for i, row in enumerate(A)]\n",
    "    \n",
    "    for i in range(n):\n",
    "        pivot = B[i][i]\n",
    "        for j in range(i, 2 * n):\n",
    "            B[i][j] /= pivot\n",
    "        \n",
    "        for j in range(n):\n",
    "            if i != j:\n",
    "                factor = B[j][i]\n",
    "                for k in range(2 * n):\n",
    "                    B[j][k] -= factor * B[i][k]\n",
    "    \n",
    "        inverse = [row[n:] for row in B]\n",
    "    return inverse\n",
    "\n",
    "A = [[1, 2], [3, 4]]\n",
    "print(\"Ma tran nghich dao: \", inverse(A))\n",
    "\n",
    "B = [[1, 2, 3], [4, 5, 6], [7, 8, 9]]\n",
    "print(inverse(B))"
   ]
  },
  {
   "cell_type": "markdown",
   "metadata": {},
   "source": [
    "### Bài 2"
   ]
  },
  {
   "cell_type": "code",
   "execution_count": 45,
   "metadata": {},
   "outputs": [
    {
     "name": "stdout",
     "output_type": "stream",
     "text": [
      "Ma tran nghich dao: \n",
      "[[-2.   1. ]\n",
      " [ 1.5 -0.5]]\n",
      "Ma tran khong kha nghich.\n"
     ]
    }
   ],
   "source": [
    "import numpy as np\n",
    "\n",
    "def inverse_matrix(A):\n",
    "    n = A.shape[0]\n",
    "    I = np.eye(n)\n",
    "    det = np.linalg.det(A)\n",
    "    if det == 6.66133814775094e-16:\n",
    "        return \"Ma tran khong kha nghich.\"\n",
    "    B = np.hstack((A, I))\n",
    "    \n",
    "    for i in range(n):\n",
    "        pivot = B[i, i]\n",
    "        B[i, :] /= pivot\n",
    "        \n",
    "        for j in range(n):\n",
    "            if i != j:\n",
    "                factor = B[j, i]\n",
    "                B[j, :] -= factor * B[i, :]\n",
    "    \n",
    "    inverse = B[:, n:]\n",
    "    return inverse\n",
    "\n",
    "A = np.array([[1, 2], [3, 4]])\n",
    "print(\"Ma tran nghich dao: \")\n",
    "print(inverse_matrix(A))\n",
    "\n",
    "B = np.array([[1, 2, 3], [4, 5, 6], [7, 8, 9]])\n",
    "print(inverse_matrix(B))"
   ]
  },
  {
   "cell_type": "markdown",
   "metadata": {},
   "source": [
    "## Mô tả ý tưởng\n",
    "\n",
    "**Bước 1.** Tính định thức của ma trận để kiểm tra ma trận có khả nghịch hay không. Nếu có thì đến bước 2.\n",
    "\n",
    "**Bước 2.** Tạo ma trận đơn vị có cùng kích thước với ma trận đầu vào. Kết hợp ma trận đơn vị vào bên phải ma trận đầu vào.\n",
    "\n",
    "**Bước 3.** Dùng phép biến đổi Gauss-Jordan để chuyển ma trận thành ma trận bậc thang:\n",
    "\n",
    "**Bước 4.** Trích xuất phần ma trận bên phải, ta được ma trận khả nghịch của ma trận đầu vào."
   ]
  },
  {
   "cell_type": "markdown",
   "metadata": {},
   "source": [
    "## Mô tả các hàm\n",
    "\n",
    "### Bài 1:\n",
    "\n",
    "Hàm **def determinant(A)**: Tính định thức của ma trận A\n",
    "\n",
    "Hàm **def inverse(A)**: Tìm ra ma trận nghịch đảo của ma trận A\n",
    "\n",
    "### Bài 2: \n",
    "\n",
    "Hàm **def inverse_matrix(A)**: \n",
    "\n",
    "    + Dùng thư viện numpy để hỗ trợ trong các bước:\n",
    "    \n",
    "        - Tạo ma trận đơn vị \n",
    "\n",
    "        - Kết hợp ma trận ban đầu với ma trận đơn vị để được ma trận mở rộng\n",
    "\n",
    "        - Tính định thức của ma trận A.\n",
    "\n",
    "    + Các bước tiếp theo có giải thuật giống hàm def inverse(A)\n"
   ]
  }
 ],
 "metadata": {
  "kernelspec": {
   "display_name": "base",
   "language": "python",
   "name": "python3"
  },
  "language_info": {
   "codemirror_mode": {
    "name": "ipython",
    "version": 3
   },
   "file_extension": ".py",
   "mimetype": "text/x-python",
   "name": "python",
   "nbconvert_exporter": "python",
   "pygments_lexer": "ipython3",
   "version": "3.11.7"
  }
 },
 "nbformat": 4,
 "nbformat_minor": 2
}
